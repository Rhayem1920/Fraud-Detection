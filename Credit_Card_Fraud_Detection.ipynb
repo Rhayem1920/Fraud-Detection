{
  "cells": [
    {
      "cell_type": "markdown",
      "metadata": {
        "id": "view-in-github",
        "colab_type": "text"
      },
      "source": [
        "<a href=\"https://colab.research.google.com/github/Rhayem1920/Fraud-Detection/blob/main/Credit_Card_Fraud_Detection.ipynb\" target=\"_parent\"><img src=\"https://colab.research.google.com/assets/colab-badge.svg\" alt=\"Open In Colab\"/></a>"
      ]
    },
    {
      "cell_type": "markdown",
      "metadata": {
        "id": "H362PXQjoAoW"
      },
      "source": [
        "# **Problem Definition**\n",
        "\n",
        "In the classification framework defined for this case study, the response variable takes a value of 1 in case the given transaction is fraud and 0 otherwise.\n",
        "\n",
        "The datasets contains transactions made by credit cards in September 2013 by european cardholders. This dataset presents transactions that occurred in two days, where we have 492 frauds out of 284,807 transactions. The dataset is highly unbalanced, the positive class (frauds) account for 0.172% of all transactions.The task is to get forecast the fraud. Feature 'Class' is the response variable and it takes value 1 in case of fraud and 0 otherwise.The features are the result of PCA transformation and aren't intuitive as far as their names are concerned."
      ]
    },
    {
      "cell_type": "code",
      "execution_count": null,
      "metadata": {
        "id": "knuqk-cln22d"
      },
      "outputs": [],
      "source": [
        "# Load libraries\n",
        "import numpy as np\n",
        "import pandas as pd\n",
        "from matplotlib import pyplot\n",
        "from pandas import read_csv, set_option\n",
        "from pandas.plotting import scatter_matrix\n",
        "import seaborn as sns\n",
        "from sklearn.preprocessing import StandardScaler\n",
        "from sklearn.model_selection import train_test_split, KFold, cross_val_score, GridSearchCV\n",
        "from sklearn.linear_model import LogisticRegression\n",
        "from sklearn.tree import DecisionTreeClassifier\n",
        "from sklearn.neighbors import KNeighborsClassifier\n",
        "from sklearn.discriminant_analysis import LinearDiscriminantAnalysis\n",
        "from sklearn.naive_bayes import GaussianNB\n",
        "from sklearn.svm import SVC\n",
        "from sklearn.neural_network import MLPClassifier\n",
        "from sklearn.pipeline import Pipeline\n",
        "from sklearn.ensemble import AdaBoostClassifier, GradientBoostingClassifier, RandomForestClassifier, ExtraTreesClassifier\n",
        "from sklearn.metrics import classification_report, confusion_matrix, accuracy_score\n",
        "\n",
        "#Libraries for Deep Learning Models\n",
        "from keras.models import Sequential\n",
        "from keras.layers import Dense\n",
        "from keras.wrappers.scikit_learn import KerasClassifier\n",
        "from tensorflow.keras.optimizers import SGD\n",
        "\n",
        "#Libraries for Saving the Model\n",
        "from pickle import dump\n",
        "from pickle import load\n"
      ]
    },
    {
      "cell_type": "code",
      "execution_count": 4,
      "metadata": {
        "id": "Bu2_0ae8oJWe"
      },
      "outputs": [],
      "source": [
        "# load dataset\n",
        "dataset = read_csv('/content/creditcard.csv')\n",
        "\n",
        "#Diable the warnings\n",
        "import warnings\n",
        "warnings.filterwarnings('ignore')\n",
        "\n"
      ]
    },
    {
      "cell_type": "markdown",
      "metadata": {
        "id": "B62zIaujoenY"
      },
      "source": [
        "## **Exploratory Data Analysis**\n",
        "\n",
        "\n",
        "\n",
        "\n"
      ]
    },
    {
      "cell_type": "code",
      "execution_count": 5,
      "metadata": {
        "id": "bbmS9mY8ojxA",
        "colab": {
          "base_uri": "https://localhost:8080/"
        },
        "outputId": "1c141354-c71d-4331-e3db-62d53109897d"
      },
      "outputs": [
        {
          "output_type": "execute_result",
          "data": {
            "text/plain": [
              "(284807, 31)"
            ]
          },
          "metadata": {},
          "execution_count": 5
        }
      ],
      "source": [
        "# shape\n",
        "dataset.shape"
      ]
    },
    {
      "cell_type": "code",
      "execution_count": 6,
      "metadata": {
        "id": "8Rqc4JZCospm",
        "colab": {
          "base_uri": "https://localhost:8080/",
          "height": 262
        },
        "outputId": "b9b86653-4d44-4c1d-8c3b-12b25767cfed"
      },
      "outputs": [
        {
          "output_type": "execute_result",
          "data": {
            "text/html": [
              "\n",
              "  <div id=\"df-f6c3683b-5b9c-4ee0-8ea2-7aa7ea9e7b97\">\n",
              "    <div class=\"colab-df-container\">\n",
              "      <div>\n",
              "<style scoped>\n",
              "    .dataframe tbody tr th:only-of-type {\n",
              "        vertical-align: middle;\n",
              "    }\n",
              "\n",
              "    .dataframe tbody tr th {\n",
              "        vertical-align: top;\n",
              "    }\n",
              "\n",
              "    .dataframe thead th {\n",
              "        text-align: right;\n",
              "    }\n",
              "</style>\n",
              "<table border=\"1\" class=\"dataframe\">\n",
              "  <thead>\n",
              "    <tr style=\"text-align: right;\">\n",
              "      <th></th>\n",
              "      <th>Time</th>\n",
              "      <th>V1</th>\n",
              "      <th>V2</th>\n",
              "      <th>V3</th>\n",
              "      <th>V4</th>\n",
              "      <th>V5</th>\n",
              "      <th>V6</th>\n",
              "      <th>V7</th>\n",
              "      <th>V8</th>\n",
              "      <th>V9</th>\n",
              "      <th>V10</th>\n",
              "      <th>V11</th>\n",
              "      <th>V12</th>\n",
              "      <th>V13</th>\n",
              "      <th>V14</th>\n",
              "      <th>V15</th>\n",
              "      <th>V16</th>\n",
              "      <th>V17</th>\n",
              "      <th>V18</th>\n",
              "      <th>V19</th>\n",
              "      <th>V20</th>\n",
              "      <th>V21</th>\n",
              "      <th>V22</th>\n",
              "      <th>V23</th>\n",
              "      <th>V24</th>\n",
              "      <th>V25</th>\n",
              "      <th>V26</th>\n",
              "      <th>V27</th>\n",
              "      <th>V28</th>\n",
              "      <th>Amount</th>\n",
              "      <th>Class</th>\n",
              "    </tr>\n",
              "  </thead>\n",
              "  <tbody>\n",
              "    <tr>\n",
              "      <th>0</th>\n",
              "      <td>0.0</td>\n",
              "      <td>-1.359807</td>\n",
              "      <td>-0.072781</td>\n",
              "      <td>2.536347</td>\n",
              "      <td>1.378155</td>\n",
              "      <td>-0.338321</td>\n",
              "      <td>0.462388</td>\n",
              "      <td>0.239599</td>\n",
              "      <td>0.098698</td>\n",
              "      <td>0.363787</td>\n",
              "      <td>0.090794</td>\n",
              "      <td>-0.551600</td>\n",
              "      <td>-0.617801</td>\n",
              "      <td>-0.991390</td>\n",
              "      <td>-0.311169</td>\n",
              "      <td>1.468177</td>\n",
              "      <td>-0.470401</td>\n",
              "      <td>0.207971</td>\n",
              "      <td>0.025791</td>\n",
              "      <td>0.403993</td>\n",
              "      <td>0.251412</td>\n",
              "      <td>-0.018307</td>\n",
              "      <td>0.277838</td>\n",
              "      <td>-0.110474</td>\n",
              "      <td>0.066928</td>\n",
              "      <td>0.128539</td>\n",
              "      <td>-0.189115</td>\n",
              "      <td>0.133558</td>\n",
              "      <td>-0.021053</td>\n",
              "      <td>149.62</td>\n",
              "      <td>0</td>\n",
              "    </tr>\n",
              "    <tr>\n",
              "      <th>1</th>\n",
              "      <td>0.0</td>\n",
              "      <td>1.191857</td>\n",
              "      <td>0.266151</td>\n",
              "      <td>0.166480</td>\n",
              "      <td>0.448154</td>\n",
              "      <td>0.060018</td>\n",
              "      <td>-0.082361</td>\n",
              "      <td>-0.078803</td>\n",
              "      <td>0.085102</td>\n",
              "      <td>-0.255425</td>\n",
              "      <td>-0.166974</td>\n",
              "      <td>1.612727</td>\n",
              "      <td>1.065235</td>\n",
              "      <td>0.489095</td>\n",
              "      <td>-0.143772</td>\n",
              "      <td>0.635558</td>\n",
              "      <td>0.463917</td>\n",
              "      <td>-0.114805</td>\n",
              "      <td>-0.183361</td>\n",
              "      <td>-0.145783</td>\n",
              "      <td>-0.069083</td>\n",
              "      <td>-0.225775</td>\n",
              "      <td>-0.638672</td>\n",
              "      <td>0.101288</td>\n",
              "      <td>-0.339846</td>\n",
              "      <td>0.167170</td>\n",
              "      <td>0.125895</td>\n",
              "      <td>-0.008983</td>\n",
              "      <td>0.014724</td>\n",
              "      <td>2.69</td>\n",
              "      <td>0</td>\n",
              "    </tr>\n",
              "    <tr>\n",
              "      <th>2</th>\n",
              "      <td>1.0</td>\n",
              "      <td>-1.358354</td>\n",
              "      <td>-1.340163</td>\n",
              "      <td>1.773209</td>\n",
              "      <td>0.379780</td>\n",
              "      <td>-0.503198</td>\n",
              "      <td>1.800499</td>\n",
              "      <td>0.791461</td>\n",
              "      <td>0.247676</td>\n",
              "      <td>-1.514654</td>\n",
              "      <td>0.207643</td>\n",
              "      <td>0.624501</td>\n",
              "      <td>0.066084</td>\n",
              "      <td>0.717293</td>\n",
              "      <td>-0.165946</td>\n",
              "      <td>2.345865</td>\n",
              "      <td>-2.890083</td>\n",
              "      <td>1.109969</td>\n",
              "      <td>-0.121359</td>\n",
              "      <td>-2.261857</td>\n",
              "      <td>0.524980</td>\n",
              "      <td>0.247998</td>\n",
              "      <td>0.771679</td>\n",
              "      <td>0.909412</td>\n",
              "      <td>-0.689281</td>\n",
              "      <td>-0.327642</td>\n",
              "      <td>-0.139097</td>\n",
              "      <td>-0.055353</td>\n",
              "      <td>-0.059752</td>\n",
              "      <td>378.66</td>\n",
              "      <td>0</td>\n",
              "    </tr>\n",
              "    <tr>\n",
              "      <th>3</th>\n",
              "      <td>1.0</td>\n",
              "      <td>-0.966272</td>\n",
              "      <td>-0.185226</td>\n",
              "      <td>1.792993</td>\n",
              "      <td>-0.863291</td>\n",
              "      <td>-0.010309</td>\n",
              "      <td>1.247203</td>\n",
              "      <td>0.237609</td>\n",
              "      <td>0.377436</td>\n",
              "      <td>-1.387024</td>\n",
              "      <td>-0.054952</td>\n",
              "      <td>-0.226487</td>\n",
              "      <td>0.178228</td>\n",
              "      <td>0.507757</td>\n",
              "      <td>-0.287924</td>\n",
              "      <td>-0.631418</td>\n",
              "      <td>-1.059647</td>\n",
              "      <td>-0.684093</td>\n",
              "      <td>1.965775</td>\n",
              "      <td>-1.232622</td>\n",
              "      <td>-0.208038</td>\n",
              "      <td>-0.108300</td>\n",
              "      <td>0.005274</td>\n",
              "      <td>-0.190321</td>\n",
              "      <td>-1.175575</td>\n",
              "      <td>0.647376</td>\n",
              "      <td>-0.221929</td>\n",
              "      <td>0.062723</td>\n",
              "      <td>0.061458</td>\n",
              "      <td>123.50</td>\n",
              "      <td>0</td>\n",
              "    </tr>\n",
              "    <tr>\n",
              "      <th>4</th>\n",
              "      <td>2.0</td>\n",
              "      <td>-1.158233</td>\n",
              "      <td>0.877737</td>\n",
              "      <td>1.548718</td>\n",
              "      <td>0.403034</td>\n",
              "      <td>-0.407193</td>\n",
              "      <td>0.095921</td>\n",
              "      <td>0.592941</td>\n",
              "      <td>-0.270533</td>\n",
              "      <td>0.817739</td>\n",
              "      <td>0.753074</td>\n",
              "      <td>-0.822843</td>\n",
              "      <td>0.538196</td>\n",
              "      <td>1.345852</td>\n",
              "      <td>-1.119670</td>\n",
              "      <td>0.175121</td>\n",
              "      <td>-0.451449</td>\n",
              "      <td>-0.237033</td>\n",
              "      <td>-0.038195</td>\n",
              "      <td>0.803487</td>\n",
              "      <td>0.408542</td>\n",
              "      <td>-0.009431</td>\n",
              "      <td>0.798278</td>\n",
              "      <td>-0.137458</td>\n",
              "      <td>0.141267</td>\n",
              "      <td>-0.206010</td>\n",
              "      <td>0.502292</td>\n",
              "      <td>0.219422</td>\n",
              "      <td>0.215153</td>\n",
              "      <td>69.99</td>\n",
              "      <td>0</td>\n",
              "    </tr>\n",
              "  </tbody>\n",
              "</table>\n",
              "</div>\n",
              "      <button class=\"colab-df-convert\" onclick=\"convertToInteractive('df-f6c3683b-5b9c-4ee0-8ea2-7aa7ea9e7b97')\"\n",
              "              title=\"Convert this dataframe to an interactive table.\"\n",
              "              style=\"display:none;\">\n",
              "        \n",
              "  <svg xmlns=\"http://www.w3.org/2000/svg\" height=\"24px\"viewBox=\"0 0 24 24\"\n",
              "       width=\"24px\">\n",
              "    <path d=\"M0 0h24v24H0V0z\" fill=\"none\"/>\n",
              "    <path d=\"M18.56 5.44l.94 2.06.94-2.06 2.06-.94-2.06-.94-.94-2.06-.94 2.06-2.06.94zm-11 1L8.5 8.5l.94-2.06 2.06-.94-2.06-.94L8.5 2.5l-.94 2.06-2.06.94zm10 10l.94 2.06.94-2.06 2.06-.94-2.06-.94-.94-2.06-.94 2.06-2.06.94z\"/><path d=\"M17.41 7.96l-1.37-1.37c-.4-.4-.92-.59-1.43-.59-.52 0-1.04.2-1.43.59L10.3 9.45l-7.72 7.72c-.78.78-.78 2.05 0 2.83L4 21.41c.39.39.9.59 1.41.59.51 0 1.02-.2 1.41-.59l7.78-7.78 2.81-2.81c.8-.78.8-2.07 0-2.86zM5.41 20L4 18.59l7.72-7.72 1.47 1.35L5.41 20z\"/>\n",
              "  </svg>\n",
              "      </button>\n",
              "      \n",
              "  <style>\n",
              "    .colab-df-container {\n",
              "      display:flex;\n",
              "      flex-wrap:wrap;\n",
              "      gap: 12px;\n",
              "    }\n",
              "\n",
              "    .colab-df-convert {\n",
              "      background-color: #E8F0FE;\n",
              "      border: none;\n",
              "      border-radius: 50%;\n",
              "      cursor: pointer;\n",
              "      display: none;\n",
              "      fill: #1967D2;\n",
              "      height: 32px;\n",
              "      padding: 0 0 0 0;\n",
              "      width: 32px;\n",
              "    }\n",
              "\n",
              "    .colab-df-convert:hover {\n",
              "      background-color: #E2EBFA;\n",
              "      box-shadow: 0px 1px 2px rgba(60, 64, 67, 0.3), 0px 1px 3px 1px rgba(60, 64, 67, 0.15);\n",
              "      fill: #174EA6;\n",
              "    }\n",
              "\n",
              "    [theme=dark] .colab-df-convert {\n",
              "      background-color: #3B4455;\n",
              "      fill: #D2E3FC;\n",
              "    }\n",
              "\n",
              "    [theme=dark] .colab-df-convert:hover {\n",
              "      background-color: #434B5C;\n",
              "      box-shadow: 0px 1px 3px 1px rgba(0, 0, 0, 0.15);\n",
              "      filter: drop-shadow(0px 1px 2px rgba(0, 0, 0, 0.3));\n",
              "      fill: #FFFFFF;\n",
              "    }\n",
              "  </style>\n",
              "\n",
              "      <script>\n",
              "        const buttonEl =\n",
              "          document.querySelector('#df-f6c3683b-5b9c-4ee0-8ea2-7aa7ea9e7b97 button.colab-df-convert');\n",
              "        buttonEl.style.display =\n",
              "          google.colab.kernel.accessAllowed ? 'block' : 'none';\n",
              "\n",
              "        async function convertToInteractive(key) {\n",
              "          const element = document.querySelector('#df-f6c3683b-5b9c-4ee0-8ea2-7aa7ea9e7b97');\n",
              "          const dataTable =\n",
              "            await google.colab.kernel.invokeFunction('convertToInteractive',\n",
              "                                                     [key], {});\n",
              "          if (!dataTable) return;\n",
              "\n",
              "          const docLinkHtml = 'Like what you see? Visit the ' +\n",
              "            '<a target=\"_blank\" href=https://colab.research.google.com/notebooks/data_table.ipynb>data table notebook</a>'\n",
              "            + ' to learn more about interactive tables.';\n",
              "          element.innerHTML = '';\n",
              "          dataTable['output_type'] = 'display_data';\n",
              "          await google.colab.output.renderOutput(dataTable, element);\n",
              "          const docLink = document.createElement('div');\n",
              "          docLink.innerHTML = docLinkHtml;\n",
              "          element.appendChild(docLink);\n",
              "        }\n",
              "      </script>\n",
              "    </div>\n",
              "  </div>\n",
              "  "
            ],
            "text/plain": [
              "   Time        V1        V2        V3  ...       V27       V28  Amount  Class\n",
              "0   0.0 -1.359807 -0.072781  2.536347  ...  0.133558 -0.021053  149.62      0\n",
              "1   0.0  1.191857  0.266151  0.166480  ... -0.008983  0.014724    2.69      0\n",
              "2   1.0 -1.358354 -1.340163  1.773209  ... -0.055353 -0.059752  378.66      0\n",
              "3   1.0 -0.966272 -0.185226  1.792993  ...  0.062723  0.061458  123.50      0\n",
              "4   2.0 -1.158233  0.877737  1.548718  ...  0.219422  0.215153   69.99      0\n",
              "\n",
              "[5 rows x 31 columns]"
            ]
          },
          "metadata": {},
          "execution_count": 6
        }
      ],
      "source": [
        "# peek at data\n",
        "set_option('display.width', 100)\n",
        "dataset.head(5)"
      ]
    },
    {
      "cell_type": "code",
      "execution_count": 7,
      "metadata": {
        "id": "dhYaNlo3os52",
        "colab": {
          "base_uri": "https://localhost:8080/"
        },
        "outputId": "91f8205d-655d-41b2-f2cf-448e13914b2a"
      },
      "outputs": [
        {
          "output_type": "execute_result",
          "data": {
            "text/plain": [
              "Time      float64\n",
              "V1        float64\n",
              "V2        float64\n",
              "V3        float64\n",
              "V4        float64\n",
              "V5        float64\n",
              "V6        float64\n",
              "V7        float64\n",
              "V8        float64\n",
              "V9        float64\n",
              "V10       float64\n",
              "V11       float64\n",
              "V12       float64\n",
              "V13       float64\n",
              "V14       float64\n",
              "V15       float64\n",
              "V16       float64\n",
              "V17       float64\n",
              "V18       float64\n",
              "V19       float64\n",
              "V20       float64\n",
              "V21       float64\n",
              "V22       float64\n",
              "V23       float64\n",
              "V24       float64\n",
              "V25       float64\n",
              "V26       float64\n",
              "V27       float64\n",
              "V28       float64\n",
              "Amount    float64\n",
              "Class       int64\n",
              "dtype: object"
            ]
          },
          "metadata": {},
          "execution_count": 7
        }
      ],
      "source": [
        "# types\n",
        "set_option('display.max_rows', 500)\n",
        "dataset.dtypes"
      ]
    },
    {
      "cell_type": "markdown",
      "metadata": {
        "id": "sFnOKsZMo2ag"
      },
      "source": [
        "\n",
        "\n",
        "**As shown in the results above, the entire data type is float, except Class which is integer, and the variable names aren't intuitive.**\n",
        "\n",
        "\n",
        "\n"
      ]
    },
    {
      "cell_type": "code",
      "execution_count": 8,
      "metadata": {
        "id": "EYQJEHTUotJ_",
        "colab": {
          "base_uri": "https://localhost:8080/",
          "height": 352
        },
        "outputId": "3ea1d112-a67b-478e-a08d-53cab1e1001d"
      },
      "outputs": [
        {
          "output_type": "execute_result",
          "data": {
            "text/html": [
              "\n",
              "  <div id=\"df-a7bc65ea-6e12-49ae-90fd-19786b451c29\">\n",
              "    <div class=\"colab-df-container\">\n",
              "      <div>\n",
              "<style scoped>\n",
              "    .dataframe tbody tr th:only-of-type {\n",
              "        vertical-align: middle;\n",
              "    }\n",
              "\n",
              "    .dataframe tbody tr th {\n",
              "        vertical-align: top;\n",
              "    }\n",
              "\n",
              "    .dataframe thead th {\n",
              "        text-align: right;\n",
              "    }\n",
              "</style>\n",
              "<table border=\"1\" class=\"dataframe\">\n",
              "  <thead>\n",
              "    <tr style=\"text-align: right;\">\n",
              "      <th></th>\n",
              "      <th>Time</th>\n",
              "      <th>V1</th>\n",
              "      <th>V2</th>\n",
              "      <th>V3</th>\n",
              "      <th>V4</th>\n",
              "      <th>V5</th>\n",
              "      <th>V6</th>\n",
              "      <th>V7</th>\n",
              "      <th>V8</th>\n",
              "      <th>V9</th>\n",
              "      <th>V10</th>\n",
              "      <th>V11</th>\n",
              "      <th>V12</th>\n",
              "      <th>V13</th>\n",
              "      <th>V14</th>\n",
              "      <th>V15</th>\n",
              "      <th>V16</th>\n",
              "      <th>V17</th>\n",
              "      <th>V18</th>\n",
              "      <th>V19</th>\n",
              "      <th>V20</th>\n",
              "      <th>V21</th>\n",
              "      <th>V22</th>\n",
              "      <th>V23</th>\n",
              "      <th>V24</th>\n",
              "      <th>V25</th>\n",
              "      <th>V26</th>\n",
              "      <th>V27</th>\n",
              "      <th>V28</th>\n",
              "      <th>Amount</th>\n",
              "      <th>Class</th>\n",
              "    </tr>\n",
              "  </thead>\n",
              "  <tbody>\n",
              "    <tr>\n",
              "      <th>count</th>\n",
              "      <td>284807.000</td>\n",
              "      <td>2.848e+05</td>\n",
              "      <td>2.848e+05</td>\n",
              "      <td>2.848e+05</td>\n",
              "      <td>2.848e+05</td>\n",
              "      <td>2.848e+05</td>\n",
              "      <td>2.848e+05</td>\n",
              "      <td>2.848e+05</td>\n",
              "      <td>2.848e+05</td>\n",
              "      <td>2.848e+05</td>\n",
              "      <td>2.848e+05</td>\n",
              "      <td>2.848e+05</td>\n",
              "      <td>2.848e+05</td>\n",
              "      <td>2.848e+05</td>\n",
              "      <td>2.848e+05</td>\n",
              "      <td>2.848e+05</td>\n",
              "      <td>2.848e+05</td>\n",
              "      <td>2.848e+05</td>\n",
              "      <td>2.848e+05</td>\n",
              "      <td>2.848e+05</td>\n",
              "      <td>2.848e+05</td>\n",
              "      <td>2.848e+05</td>\n",
              "      <td>2.848e+05</td>\n",
              "      <td>2.848e+05</td>\n",
              "      <td>2.848e+05</td>\n",
              "      <td>2.848e+05</td>\n",
              "      <td>2.848e+05</td>\n",
              "      <td>2.848e+05</td>\n",
              "      <td>2.848e+05</td>\n",
              "      <td>284807.000</td>\n",
              "      <td>284807.000</td>\n",
              "    </tr>\n",
              "    <tr>\n",
              "      <th>mean</th>\n",
              "      <td>94813.860</td>\n",
              "      <td>3.919e-15</td>\n",
              "      <td>5.683e-16</td>\n",
              "      <td>-8.762e-15</td>\n",
              "      <td>2.811e-15</td>\n",
              "      <td>-1.552e-15</td>\n",
              "      <td>2.040e-15</td>\n",
              "      <td>-1.699e-15</td>\n",
              "      <td>-1.893e-16</td>\n",
              "      <td>-3.148e-15</td>\n",
              "      <td>1.773e-15</td>\n",
              "      <td>9.290e-16</td>\n",
              "      <td>-1.803e-15</td>\n",
              "      <td>1.675e-15</td>\n",
              "      <td>1.476e-15</td>\n",
              "      <td>3.501e-15</td>\n",
              "      <td>1.392e-15</td>\n",
              "      <td>-7.467e-16</td>\n",
              "      <td>4.259e-16</td>\n",
              "      <td>9.020e-16</td>\n",
              "      <td>5.127e-16</td>\n",
              "      <td>1.473e-16</td>\n",
              "      <td>8.042e-16</td>\n",
              "      <td>5.283e-16</td>\n",
              "      <td>4.456e-15</td>\n",
              "      <td>1.427e-15</td>\n",
              "      <td>1.702e-15</td>\n",
              "      <td>-3.662e-16</td>\n",
              "      <td>-1.218e-16</td>\n",
              "      <td>88.350</td>\n",
              "      <td>0.002</td>\n",
              "    </tr>\n",
              "    <tr>\n",
              "      <th>std</th>\n",
              "      <td>47488.146</td>\n",
              "      <td>1.959e+00</td>\n",
              "      <td>1.651e+00</td>\n",
              "      <td>1.516e+00</td>\n",
              "      <td>1.416e+00</td>\n",
              "      <td>1.380e+00</td>\n",
              "      <td>1.332e+00</td>\n",
              "      <td>1.237e+00</td>\n",
              "      <td>1.194e+00</td>\n",
              "      <td>1.099e+00</td>\n",
              "      <td>1.089e+00</td>\n",
              "      <td>1.021e+00</td>\n",
              "      <td>9.992e-01</td>\n",
              "      <td>9.953e-01</td>\n",
              "      <td>9.586e-01</td>\n",
              "      <td>9.153e-01</td>\n",
              "      <td>8.763e-01</td>\n",
              "      <td>8.493e-01</td>\n",
              "      <td>8.382e-01</td>\n",
              "      <td>8.140e-01</td>\n",
              "      <td>7.709e-01</td>\n",
              "      <td>7.345e-01</td>\n",
              "      <td>7.257e-01</td>\n",
              "      <td>6.245e-01</td>\n",
              "      <td>6.056e-01</td>\n",
              "      <td>5.213e-01</td>\n",
              "      <td>4.822e-01</td>\n",
              "      <td>4.036e-01</td>\n",
              "      <td>3.301e-01</td>\n",
              "      <td>250.120</td>\n",
              "      <td>0.042</td>\n",
              "    </tr>\n",
              "    <tr>\n",
              "      <th>min</th>\n",
              "      <td>0.000</td>\n",
              "      <td>-5.641e+01</td>\n",
              "      <td>-7.272e+01</td>\n",
              "      <td>-4.833e+01</td>\n",
              "      <td>-5.683e+00</td>\n",
              "      <td>-1.137e+02</td>\n",
              "      <td>-2.616e+01</td>\n",
              "      <td>-4.356e+01</td>\n",
              "      <td>-7.322e+01</td>\n",
              "      <td>-1.343e+01</td>\n",
              "      <td>-2.459e+01</td>\n",
              "      <td>-4.797e+00</td>\n",
              "      <td>-1.868e+01</td>\n",
              "      <td>-5.792e+00</td>\n",
              "      <td>-1.921e+01</td>\n",
              "      <td>-4.499e+00</td>\n",
              "      <td>-1.413e+01</td>\n",
              "      <td>-2.516e+01</td>\n",
              "      <td>-9.499e+00</td>\n",
              "      <td>-7.214e+00</td>\n",
              "      <td>-5.450e+01</td>\n",
              "      <td>-3.483e+01</td>\n",
              "      <td>-1.093e+01</td>\n",
              "      <td>-4.481e+01</td>\n",
              "      <td>-2.837e+00</td>\n",
              "      <td>-1.030e+01</td>\n",
              "      <td>-2.605e+00</td>\n",
              "      <td>-2.257e+01</td>\n",
              "      <td>-1.543e+01</td>\n",
              "      <td>0.000</td>\n",
              "      <td>0.000</td>\n",
              "    </tr>\n",
              "    <tr>\n",
              "      <th>25%</th>\n",
              "      <td>54201.500</td>\n",
              "      <td>-9.204e-01</td>\n",
              "      <td>-5.985e-01</td>\n",
              "      <td>-8.904e-01</td>\n",
              "      <td>-8.486e-01</td>\n",
              "      <td>-6.916e-01</td>\n",
              "      <td>-7.683e-01</td>\n",
              "      <td>-5.541e-01</td>\n",
              "      <td>-2.086e-01</td>\n",
              "      <td>-6.431e-01</td>\n",
              "      <td>-5.354e-01</td>\n",
              "      <td>-7.625e-01</td>\n",
              "      <td>-4.056e-01</td>\n",
              "      <td>-6.485e-01</td>\n",
              "      <td>-4.256e-01</td>\n",
              "      <td>-5.829e-01</td>\n",
              "      <td>-4.680e-01</td>\n",
              "      <td>-4.837e-01</td>\n",
              "      <td>-4.988e-01</td>\n",
              "      <td>-4.563e-01</td>\n",
              "      <td>-2.117e-01</td>\n",
              "      <td>-2.284e-01</td>\n",
              "      <td>-5.424e-01</td>\n",
              "      <td>-1.618e-01</td>\n",
              "      <td>-3.546e-01</td>\n",
              "      <td>-3.171e-01</td>\n",
              "      <td>-3.270e-01</td>\n",
              "      <td>-7.084e-02</td>\n",
              "      <td>-5.296e-02</td>\n",
              "      <td>5.600</td>\n",
              "      <td>0.000</td>\n",
              "    </tr>\n",
              "    <tr>\n",
              "      <th>50%</th>\n",
              "      <td>84692.000</td>\n",
              "      <td>1.811e-02</td>\n",
              "      <td>6.549e-02</td>\n",
              "      <td>1.798e-01</td>\n",
              "      <td>-1.985e-02</td>\n",
              "      <td>-5.434e-02</td>\n",
              "      <td>-2.742e-01</td>\n",
              "      <td>4.010e-02</td>\n",
              "      <td>2.236e-02</td>\n",
              "      <td>-5.143e-02</td>\n",
              "      <td>-9.292e-02</td>\n",
              "      <td>-3.276e-02</td>\n",
              "      <td>1.400e-01</td>\n",
              "      <td>-1.357e-02</td>\n",
              "      <td>5.060e-02</td>\n",
              "      <td>4.807e-02</td>\n",
              "      <td>6.641e-02</td>\n",
              "      <td>-6.568e-02</td>\n",
              "      <td>-3.636e-03</td>\n",
              "      <td>3.735e-03</td>\n",
              "      <td>-6.248e-02</td>\n",
              "      <td>-2.945e-02</td>\n",
              "      <td>6.782e-03</td>\n",
              "      <td>-1.119e-02</td>\n",
              "      <td>4.098e-02</td>\n",
              "      <td>1.659e-02</td>\n",
              "      <td>-5.214e-02</td>\n",
              "      <td>1.342e-03</td>\n",
              "      <td>1.124e-02</td>\n",
              "      <td>22.000</td>\n",
              "      <td>0.000</td>\n",
              "    </tr>\n",
              "    <tr>\n",
              "      <th>75%</th>\n",
              "      <td>139320.500</td>\n",
              "      <td>1.316e+00</td>\n",
              "      <td>8.037e-01</td>\n",
              "      <td>1.027e+00</td>\n",
              "      <td>7.433e-01</td>\n",
              "      <td>6.119e-01</td>\n",
              "      <td>3.986e-01</td>\n",
              "      <td>5.704e-01</td>\n",
              "      <td>3.273e-01</td>\n",
              "      <td>5.971e-01</td>\n",
              "      <td>4.539e-01</td>\n",
              "      <td>7.396e-01</td>\n",
              "      <td>6.182e-01</td>\n",
              "      <td>6.625e-01</td>\n",
              "      <td>4.931e-01</td>\n",
              "      <td>6.488e-01</td>\n",
              "      <td>5.233e-01</td>\n",
              "      <td>3.997e-01</td>\n",
              "      <td>5.008e-01</td>\n",
              "      <td>4.589e-01</td>\n",
              "      <td>1.330e-01</td>\n",
              "      <td>1.864e-01</td>\n",
              "      <td>5.286e-01</td>\n",
              "      <td>1.476e-01</td>\n",
              "      <td>4.395e-01</td>\n",
              "      <td>3.507e-01</td>\n",
              "      <td>2.410e-01</td>\n",
              "      <td>9.105e-02</td>\n",
              "      <td>7.828e-02</td>\n",
              "      <td>77.165</td>\n",
              "      <td>0.000</td>\n",
              "    </tr>\n",
              "    <tr>\n",
              "      <th>max</th>\n",
              "      <td>172792.000</td>\n",
              "      <td>2.455e+00</td>\n",
              "      <td>2.206e+01</td>\n",
              "      <td>9.383e+00</td>\n",
              "      <td>1.688e+01</td>\n",
              "      <td>3.480e+01</td>\n",
              "      <td>7.330e+01</td>\n",
              "      <td>1.206e+02</td>\n",
              "      <td>2.001e+01</td>\n",
              "      <td>1.559e+01</td>\n",
              "      <td>2.375e+01</td>\n",
              "      <td>1.202e+01</td>\n",
              "      <td>7.848e+00</td>\n",
              "      <td>7.127e+00</td>\n",
              "      <td>1.053e+01</td>\n",
              "      <td>8.878e+00</td>\n",
              "      <td>1.732e+01</td>\n",
              "      <td>9.254e+00</td>\n",
              "      <td>5.041e+00</td>\n",
              "      <td>5.592e+00</td>\n",
              "      <td>3.942e+01</td>\n",
              "      <td>2.720e+01</td>\n",
              "      <td>1.050e+01</td>\n",
              "      <td>2.253e+01</td>\n",
              "      <td>4.585e+00</td>\n",
              "      <td>7.520e+00</td>\n",
              "      <td>3.517e+00</td>\n",
              "      <td>3.161e+01</td>\n",
              "      <td>3.385e+01</td>\n",
              "      <td>25691.160</td>\n",
              "      <td>1.000</td>\n",
              "    </tr>\n",
              "  </tbody>\n",
              "</table>\n",
              "</div>\n",
              "      <button class=\"colab-df-convert\" onclick=\"convertToInteractive('df-a7bc65ea-6e12-49ae-90fd-19786b451c29')\"\n",
              "              title=\"Convert this dataframe to an interactive table.\"\n",
              "              style=\"display:none;\">\n",
              "        \n",
              "  <svg xmlns=\"http://www.w3.org/2000/svg\" height=\"24px\"viewBox=\"0 0 24 24\"\n",
              "       width=\"24px\">\n",
              "    <path d=\"M0 0h24v24H0V0z\" fill=\"none\"/>\n",
              "    <path d=\"M18.56 5.44l.94 2.06.94-2.06 2.06-.94-2.06-.94-.94-2.06-.94 2.06-2.06.94zm-11 1L8.5 8.5l.94-2.06 2.06-.94-2.06-.94L8.5 2.5l-.94 2.06-2.06.94zm10 10l.94 2.06.94-2.06 2.06-.94-2.06-.94-.94-2.06-.94 2.06-2.06.94z\"/><path d=\"M17.41 7.96l-1.37-1.37c-.4-.4-.92-.59-1.43-.59-.52 0-1.04.2-1.43.59L10.3 9.45l-7.72 7.72c-.78.78-.78 2.05 0 2.83L4 21.41c.39.39.9.59 1.41.59.51 0 1.02-.2 1.41-.59l7.78-7.78 2.81-2.81c.8-.78.8-2.07 0-2.86zM5.41 20L4 18.59l7.72-7.72 1.47 1.35L5.41 20z\"/>\n",
              "  </svg>\n",
              "      </button>\n",
              "      \n",
              "  <style>\n",
              "    .colab-df-container {\n",
              "      display:flex;\n",
              "      flex-wrap:wrap;\n",
              "      gap: 12px;\n",
              "    }\n",
              "\n",
              "    .colab-df-convert {\n",
              "      background-color: #E8F0FE;\n",
              "      border: none;\n",
              "      border-radius: 50%;\n",
              "      cursor: pointer;\n",
              "      display: none;\n",
              "      fill: #1967D2;\n",
              "      height: 32px;\n",
              "      padding: 0 0 0 0;\n",
              "      width: 32px;\n",
              "    }\n",
              "\n",
              "    .colab-df-convert:hover {\n",
              "      background-color: #E2EBFA;\n",
              "      box-shadow: 0px 1px 2px rgba(60, 64, 67, 0.3), 0px 1px 3px 1px rgba(60, 64, 67, 0.15);\n",
              "      fill: #174EA6;\n",
              "    }\n",
              "\n",
              "    [theme=dark] .colab-df-convert {\n",
              "      background-color: #3B4455;\n",
              "      fill: #D2E3FC;\n",
              "    }\n",
              "\n",
              "    [theme=dark] .colab-df-convert:hover {\n",
              "      background-color: #434B5C;\n",
              "      box-shadow: 0px 1px 3px 1px rgba(0, 0, 0, 0.15);\n",
              "      filter: drop-shadow(0px 1px 2px rgba(0, 0, 0, 0.3));\n",
              "      fill: #FFFFFF;\n",
              "    }\n",
              "  </style>\n",
              "\n",
              "      <script>\n",
              "        const buttonEl =\n",
              "          document.querySelector('#df-a7bc65ea-6e12-49ae-90fd-19786b451c29 button.colab-df-convert');\n",
              "        buttonEl.style.display =\n",
              "          google.colab.kernel.accessAllowed ? 'block' : 'none';\n",
              "\n",
              "        async function convertToInteractive(key) {\n",
              "          const element = document.querySelector('#df-a7bc65ea-6e12-49ae-90fd-19786b451c29');\n",
              "          const dataTable =\n",
              "            await google.colab.kernel.invokeFunction('convertToInteractive',\n",
              "                                                     [key], {});\n",
              "          if (!dataTable) return;\n",
              "\n",
              "          const docLinkHtml = 'Like what you see? Visit the ' +\n",
              "            '<a target=\"_blank\" href=https://colab.research.google.com/notebooks/data_table.ipynb>data table notebook</a>'\n",
              "            + ' to learn more about interactive tables.';\n",
              "          element.innerHTML = '';\n",
              "          dataTable['output_type'] = 'display_data';\n",
              "          await google.colab.output.renderOutput(dataTable, element);\n",
              "          const docLink = document.createElement('div');\n",
              "          docLink.innerHTML = docLinkHtml;\n",
              "          element.appendChild(docLink);\n",
              "        }\n",
              "      </script>\n",
              "    </div>\n",
              "  </div>\n",
              "  "
            ],
            "text/plain": [
              "             Time         V1         V2  ...        V28      Amount       Class\n",
              "count  284807.000  2.848e+05  2.848e+05  ...  2.848e+05  284807.000  284807.000\n",
              "mean    94813.860  3.919e-15  5.683e-16  ... -1.218e-16      88.350       0.002\n",
              "std     47488.146  1.959e+00  1.651e+00  ...  3.301e-01     250.120       0.042\n",
              "min         0.000 -5.641e+01 -7.272e+01  ... -1.543e+01       0.000       0.000\n",
              "25%     54201.500 -9.204e-01 -5.985e-01  ... -5.296e-02       5.600       0.000\n",
              "50%     84692.000  1.811e-02  6.549e-02  ...  1.124e-02      22.000       0.000\n",
              "75%    139320.500  1.316e+00  8.037e-01  ...  7.828e-02      77.165       0.000\n",
              "max    172792.000  2.455e+00  2.206e+01  ...  3.385e+01   25691.160       1.000\n",
              "\n",
              "[8 rows x 31 columns]"
            ]
          },
          "metadata": {},
          "execution_count": 8
        }
      ],
      "source": [
        "# describe data\n",
        "set_option('precision', 3)\n",
        "dataset.describe()"
      ]
    },
    {
      "cell_type": "markdown",
      "metadata": {
        "id": "RVWDkAj-o-tk"
      },
      "source": [
        "\n",
        "\n",
        "**Let us check the number of fraud vs. non-fraud cases in the data set.**\n",
        "\n",
        "\n",
        "\n"
      ]
    },
    {
      "cell_type": "code",
      "execution_count": 9,
      "metadata": {
        "id": "WDOgRHTxotSb",
        "colab": {
          "base_uri": "https://localhost:8080/"
        },
        "outputId": "1a2150a6-4d99-4e4b-fe9a-8afc9c346353"
      },
      "outputs": [
        {
          "output_type": "stream",
          "name": "stdout",
          "text": [
            "Not Fraud    284315\n",
            "Fraud           492\n",
            "Name: Class, dtype: int64\n"
          ]
        }
      ],
      "source": [
        "class_names = {0:'Not Fraud', 1:'Fraud'}\n",
        "print(dataset.Class.value_counts().rename(index = class_names))"
      ]
    },
    {
      "cell_type": "markdown",
      "metadata": {
        "id": "MNGoF5sFpFoP"
      },
      "source": [
        "**The dataset is unbalanced with most of the transactions being non-fraud.**\n",
        "\n",
        "## **Data Visualization:**\n",
        "\n",
        "\n",
        "\n"
      ]
    },
    {
      "cell_type": "code",
      "execution_count": 10,
      "metadata": {
        "id": "vVF8IBpeotaN",
        "colab": {
          "base_uri": "https://localhost:8080/",
          "height": 706
        },
        "outputId": "634928f2-5ff4-45ce-e8f6-8536951f9b66"
      },
      "outputs": [
        {
          "output_type": "display_data",
          "data": {
            "image/png": "[encoded data removed]",
            "text/plain": [
              "<Figure size 864x864 with 36 Axes>"
            ]
          },
          "metadata": {
            "needs_background": "light"
          }
        }
      ],
      "source": [
        "# histograms\n",
        "dataset.hist(sharex=False, sharey=False, xlabelsize=1, ylabelsize=1, figsize=(12,12))\n",
        "pyplot.show()"
      ]
    },
    {
      "cell_type": "markdown",
      "metadata": {
        "id": "pVzi8TexpSLv"
      },
      "source": [
        "**Distribution of most of the variables are highly skewed. However, given the variable names aren't known, we don't get much intuition from the plot.**\n",
        "\n",
        "## **Data Preparation:**"
      ]
    },
    {
      "cell_type": "code",
      "execution_count": 11,
      "metadata": {
        "id": "Uc8c2brtothS",
        "colab": {
          "base_uri": "https://localhost:8080/"
        },
        "outputId": "5942000c-e1dc-43de-d58d-d9d107a9d592"
      },
      "outputs": [
        {
          "output_type": "stream",
          "name": "stdout",
          "text": [
            "Null Values = False\n"
          ]
        }
      ],
      "source": [
        "#Checking for any null values and removing the null values'''\n",
        "print('Null Values =',dataset.isnull().values.any())"
      ]
    },
    {
      "cell_type": "markdown",
      "metadata": {
        "id": "sVS8xbDnpbOj"
      },
      "source": [
        "**There is no null in the data, and the data is already in the float format, so there is no need to clean or categorise the data**\n",
        "\n",
        "## **Feature Selection**\n",
        "\n"
      ]
    },
    {
      "cell_type": "code",
      "execution_count": 12,
      "metadata": {
        "id": "QzZprQRGotn9",
        "colab": {
          "base_uri": "https://localhost:8080/"
        },
        "outputId": "a2c067d2-2b98-438a-e93e-1f6ff0733e37"
      },
      "outputs": [
        {
          "output_type": "stream",
          "name": "stdout",
          "text": [
            "   Specs      Score\n",
            "17   V17  33979.169\n",
            "14   V14  28695.548\n",
            "12   V12  20749.822\n",
            "10   V10  14057.980\n",
            "16   V16  11443.349\n",
            "3     V3  11014.508\n",
            "7     V7  10349.605\n",
            "11   V11   6999.355\n",
            "4     V4   5163.832\n",
            "18   V18   3584.381\n"
          ]
        }
      ],
      "source": [
        "from sklearn.feature_selection import SelectKBest\n",
        "from sklearn.feature_selection import chi2\n",
        "\n",
        "bestfeatures = SelectKBest( k=10)\n",
        "bestfeatures\n",
        "Y= dataset[\"Class\"]\n",
        "X = dataset.loc[:, dataset.columns != 'Class']\n",
        "fit = bestfeatures.fit(X,Y)\n",
        "dfscores = pd.DataFrame(fit.scores_)\n",
        "dfcolumns = pd.DataFrame(X.columns)\n",
        "#concat two dataframes for better visualization \n",
        "featureScores = pd.concat([dfcolumns,dfscores],axis=1)\n",
        "featureScores.columns = ['Specs','Score']  #naming the dataframe columns\n",
        "print(featureScores.nlargest(10,'Score'))  #print 10 best features"
      ]
    },
    {
      "cell_type": "markdown",
      "metadata": {
        "id": "HJkpkOaSpy8-"
      },
      "source": [
        "**Although some of the features are relevant, feature selection is not given significant preference**\n",
        "\n",
        "## **Evaluate Algorithms and Models**\n",
        "\n",
        "### **Train Test Split and Evaluation Metrics:**"
      ]
    },
    {
      "cell_type": "code",
      "execution_count": 13,
      "metadata": {
        "id": "WsUoO9zjpvb1"
      },
      "outputs": [],
      "source": [
        "\n",
        "\n",
        "# split out validation dataset for the end\n",
        "Y= dataset[\"Class\"]\n",
        "X = dataset.loc[:, dataset.columns != 'Class']\n",
        "validation_size = 0.2\n",
        "seed = 7\n",
        "X_train, X_validation, Y_train, Y_validation = train_test_split(X, Y, test_size=validation_size, random_state=seed)\n",
        "scoring = 'accuracy'\n",
        "\n",
        "\n",
        "# test options for classification\n",
        "num_folds = 10\n",
        "seed = 7\n",
        "\n",
        "# spot check some basic Classification algorithms\n",
        "\n",
        "\n"
      ]
    },
    {
      "cell_type": "markdown",
      "metadata": {
        "id": "MJSwccSbqKMO"
      },
      "source": [
        "#### **Given Data is huge, some of the slower classification algorithms are commented**\n",
        "\n"
      ]
    },
    {
      "cell_type": "code",
      "execution_count": 14,
      "metadata": {
        "colab": {
          "base_uri": "https://localhost:8080/"
        },
        "id": "luH_Yg05qP5s",
        "outputId": "6921596a-ebf6-48ec-f127-f61b13140aff"
      },
      "outputs": [
        {
          "output_type": "stream",
          "name": "stdout",
          "text": [
            "LR: 0.998876 (0.000222)\n",
            "LDA: 0.999364 (0.000136)\n",
            "KNN: 0.998310 (0.000290)\n",
            "CART: 0.999144 (0.000222)\n"
          ]
        }
      ],
      "source": [
        "models = []\n",
        "models.append(('LR', LogisticRegression()))\n",
        "models.append(('LDA', LinearDiscriminantAnalysis()))\n",
        "models.append(('KNN', KNeighborsClassifier()))\n",
        "models.append(('CART', DecisionTreeClassifier()))\n",
        "# models.append(('NB', GaussianNB()))\n",
        "# models.append(('SVM', SVC()))\n",
        "# #Neural Network\n",
        "# models.append(('NN', MLPClassifier()))\n",
        "# # #Ensable Models \n",
        "# # Boosting methods\n",
        "# models.append(('AB', AdaBoostClassifier()))\n",
        "# models.append(('GBM', GradientBoostingClassifier()))\n",
        "# # Bagging methods\n",
        "# models.append(('RF', RandomForestClassifier()))\n",
        "# models.append(('ET', ExtraTreesClassifier()))\n",
        "\n",
        "results = []\n",
        "names = []\n",
        "for name, model in models:\n",
        "    kfold = KFold(n_splits=num_folds)\n",
        "    cv_results = cross_val_score(model, X_train, Y_train, cv=kfold, scoring=scoring)\n",
        "    results.append(cv_results)\n",
        "    names.append(name)\n",
        "    msg = \"%s: %f (%f)\" % (name, cv_results.mean(), cv_results.std())\n",
        "    print(msg)\n"
      ]
    },
    {
      "cell_type": "code",
      "execution_count": 15,
      "metadata": {
        "colab": {
          "base_uri": "https://localhost:8080/",
          "height": 294
        },
        "id": "vAusIjzpqUZM",
        "outputId": "b6927738-876d-4dbd-89cc-251fc3796d09"
      },
      "outputs": [
        {
          "output_type": "display_data",
          "data": {
            "image/png": "[encoded data removed]",
            "text/plain": [
              "<Figure size 576x288 with 1 Axes>"
            ]
          },
          "metadata": {
            "needs_background": "light"
          }
        }
      ],
      "source": [
        "# compare algorithms\n",
        "fig = pyplot.figure()\n",
        "fig.suptitle('Algorithm Comparison')\n",
        "ax = fig.add_subplot(111)\n",
        "pyplot.boxplot(results)\n",
        "ax.set_xticklabels(names)\n",
        "fig.set_size_inches(8,4)\n",
        "pyplot.show()\n"
      ]
    },
    {
      "cell_type": "markdown",
      "metadata": {
        "id": "bwve4Q39qX6U"
      },
      "source": [
        "\n",
        "\n",
        "**The accuracy is very high, given that accuracy focusses on the overall no fraud case, but lets check how well it predicts the fraud case. Choosing one of the model CART from the results above**\n"
      ]
    },
    {
      "cell_type": "code",
      "execution_count": 16,
      "metadata": {
        "colab": {
          "base_uri": "https://localhost:8080/"
        },
        "id": "jQP5rWYiqbrf",
        "outputId": "d3e4d4cf-c674-469b-ccc1-0cf0a569dbbd"
      },
      "outputs": [
        {
          "output_type": "execute_result",
          "data": {
            "text/plain": [
              "DecisionTreeClassifier()"
            ]
          },
          "metadata": {},
          "execution_count": 16
        }
      ],
      "source": [
        "# prepare model\n",
        "model = DecisionTreeClassifier()\n",
        "model.fit(X_train, Y_train)\n",
        "\n"
      ]
    },
    {
      "cell_type": "code",
      "execution_count": 17,
      "metadata": {
        "colab": {
          "base_uri": "https://localhost:8080/"
        },
        "id": "CMGHqh6wqd45",
        "outputId": "0edb650f-6f04-46ae-fec6-f6799ad750ef"
      },
      "outputs": [
        {
          "output_type": "stream",
          "name": "stdout",
          "text": [
            "0.9992099996488887\n",
            "[[56838    24]\n",
            " [   21    79]]\n",
            "              precision    recall  f1-score   support\n",
            "\n",
            "           0       1.00      1.00      1.00     56862\n",
            "           1       0.77      0.79      0.78       100\n",
            "\n",
            "    accuracy                           1.00     56962\n",
            "   macro avg       0.88      0.89      0.89     56962\n",
            "weighted avg       1.00      1.00      1.00     56962\n",
            "\n"
          ]
        }
      ],
      "source": [
        "# estimate accuracy on validation set\n",
        "#rescaledValidationX = scaler.transform(X_validation)\n",
        "rescaledValidationX = X_validation\n",
        "predictions = model.predict(rescaledValidationX)\n",
        "print(accuracy_score(Y_validation, predictions))\n",
        "print(confusion_matrix(Y_validation, predictions))\n",
        "print(classification_report(Y_validation, predictions))"
      ]
    },
    {
      "cell_type": "code",
      "execution_count": 18,
      "metadata": {
        "colab": {
          "base_uri": "https://localhost:8080/",
          "height": 296
        },
        "id": "vdD_X_hBqkTl",
        "outputId": "7456fcd1-c171-495a-bf25-192f51d80017"
      },
      "outputs": [
        {
          "output_type": "execute_result",
          "data": {
            "text/plain": [
              "<matplotlib.axes._subplots.AxesSubplot at 0x7f1546960250>"
            ]
          },
          "metadata": {},
          "execution_count": 18
        },
        {
          "output_type": "display_data",
          "data": {
            "image/png": "[encoded data removed]",
            "text/plain": [
              "<Figure size 432x288 with 2 Axes>"
            ]
          },
          "metadata": {
            "needs_background": "light"
          }
        }
      ],
      "source": [
        "df_cm = pd.DataFrame(confusion_matrix(Y_validation, predictions), columns=np.unique(Y_validation), index = np.unique(Y_validation))\n",
        "df_cm.index.name = 'Actual'\n",
        "df_cm.columns.name = 'Predicted'\n",
        "sns.heatmap(df_cm, cmap=\"Blues\", annot=True,annot_kws={\"size\": 16})# font size"
      ]
    },
    {
      "cell_type": "markdown",
      "metadata": {
        "id": "laZVCFOmqo_p"
      },
      "source": [
        "\n",
        "\n",
        "**Although results are good, but still 21 out of 100 frauds aren't caught. So, we should focus on recall, which is a metric which minimises false negative.**\n",
        "\n",
        "## **Model Tuning**\n",
        "\n",
        "**Model Tuning by choosing correct evaluation metric**\n",
        "\n",
        "Evaluation Metric recall is selected, which is a metric which minimises false negative.\n",
        "\n",
        "\n"
      ]
    },
    {
      "cell_type": "code",
      "execution_count": 19,
      "metadata": {
        "colab": {
          "base_uri": "https://localhost:8080/"
        },
        "id": "ygLhK-R_qwth",
        "outputId": "fa4f53eb-0fc5-464b-e167-8629b47485be"
      },
      "outputs": [
        {
          "output_type": "stream",
          "name": "stdout",
          "text": [
            "LR: 0.631215 (0.112555)\n",
            "LDA: 0.758283 (0.045450)\n",
            "KNN: 0.023882 (0.019671)\n",
            "CART: 0.744321 (0.067411)\n"
          ]
        }
      ],
      "source": [
        "scoring = 'recall'\n",
        "\n",
        "# spot check some basic Classification algorithms\n",
        "#Given Data is huge, some of the slower classification algorithms are commented\n",
        "models = []\n",
        "models.append(('LR', LogisticRegression()))\n",
        "models.append(('LDA', LinearDiscriminantAnalysis()))\n",
        "models.append(('KNN', KNeighborsClassifier()))\n",
        "models.append(('CART', DecisionTreeClassifier()))\n",
        "# models.append(('NB', GaussianNB()))\n",
        "# models.append(('SVM', SVC()))\n",
        "# #Neural Network\n",
        "# models.append(('NN', MLPClassifier()))\n",
        "# # #Ensable Models \n",
        "# # Boosting methods\n",
        "# models.append(('AB', AdaBoostClassifier()))\n",
        "# models.append(('GBM', GradientBoostingClassifier()))\n",
        "# # Bagging methods\n",
        "# models.append(('RF', RandomForestClassifier()))\n",
        "# models.append(('ET', ExtraTreesClassifier()))\n",
        "\n",
        "results = []\n",
        "names = []\n",
        "for name, model in models:\n",
        "    kfold = KFold(n_splits=num_folds)\n",
        "    cv_results = cross_val_score(model, X_train, Y_train, cv=kfold, scoring=scoring)\n",
        "    results.append(cv_results)\n",
        "    names.append(name)\n",
        "    msg = \"%s: %f (%f)\" % (name, cv_results.mean(), cv_results.std())\n",
        "    print(msg)\n"
      ]
    },
    {
      "cell_type": "markdown",
      "metadata": {
        "id": "fREbMPgfq5as"
      },
      "source": [
        "\n",
        "\n",
        "Given the LDA has the best recall out of all the models, it is used to ealuate the test set\n",
        "\n",
        "\n",
        "\n"
      ]
    },
    {
      "cell_type": "code",
      "execution_count": 20,
      "metadata": {
        "colab": {
          "base_uri": "https://localhost:8080/"
        },
        "id": "AP-Fh5Xmqxle",
        "outputId": "eda0d58e-5448-4949-b322-300e198d7514"
      },
      "outputs": [
        {
          "output_type": "execute_result",
          "data": {
            "text/plain": [
              "LinearDiscriminantAnalysis()"
            ]
          },
          "metadata": {},
          "execution_count": 20
        }
      ],
      "source": [
        "# prepare model\n",
        "model = LinearDiscriminantAnalysis()\n",
        "model.fit(X_train, Y_train)"
      ]
    },
    {
      "cell_type": "code",
      "execution_count": 21,
      "metadata": {
        "colab": {
          "base_uri": "https://localhost:8080/"
        },
        "id": "uoPmKbQQq9Qt",
        "outputId": "cf5d4a43-177c-4964-f7b7-77207f12e77e"
      },
      "outputs": [
        {
          "output_type": "stream",
          "name": "stdout",
          "text": [
            "0.9995435553526912\n",
            "[[56854     8]\n",
            " [   18    82]]\n",
            "              precision    recall  f1-score   support\n",
            "\n",
            "           0       1.00      1.00      1.00     56862\n",
            "           1       0.91      0.82      0.86       100\n",
            "\n",
            "    accuracy                           1.00     56962\n",
            "   macro avg       0.96      0.91      0.93     56962\n",
            "weighted avg       1.00      1.00      1.00     56962\n",
            "\n"
          ]
        }
      ],
      "source": [
        "# estimate accuracy on validation set\n",
        "#rescaledValidationX = scaler.transform(X_validation)\n",
        "rescaledValidationX = X_validation\n",
        "predictions = model.predict(rescaledValidationX)\n",
        "print(accuracy_score(Y_validation, predictions))\n",
        "print(confusion_matrix(Y_validation, predictions))\n",
        "print(classification_report(Y_validation, predictions))\n"
      ]
    },
    {
      "cell_type": "code",
      "execution_count": 22,
      "metadata": {
        "colab": {
          "base_uri": "https://localhost:8080/",
          "height": 296
        },
        "id": "tDVCNdoVrDmG",
        "outputId": "3ef7df59-edd9-4b46-b734-ac66fc47627a"
      },
      "outputs": [
        {
          "output_type": "execute_result",
          "data": {
            "text/plain": [
              "<matplotlib.axes._subplots.AxesSubplot at 0x7f154697d090>"
            ]
          },
          "metadata": {},
          "execution_count": 22
        },
        {
          "output_type": "display_data",
          "data": {
            "image/png": "[encoded data removed]",
            "text/plain": [
              "<Figure size 432x288 with 2 Axes>"
            ]
          },
          "metadata": {
            "needs_background": "light"
          }
        }
      ],
      "source": [
        "df_cm = pd.DataFrame(confusion_matrix(Y_validation, predictions), columns=np.unique(Y_validation), index = np.unique(Y_validation))\n",
        "df_cm.index.name = 'Actual'\n",
        "df_cm.columns.name = 'Predicted'\n",
        "sns.heatmap(df_cm, cmap=\"Blues\", annot=True,annot_kws={\"size\": 16})# font size"
      ]
    },
    {
      "cell_type": "markdown",
      "metadata": {
        "id": "K9ySUV8XrIG1"
      },
      "source": [
        "\n",
        "\n",
        "LDA performs much better with only 18 out of cases of fraud not caught. Additionally, false positives are less as well. However, there are still 18 fraud cases in the test set which aren't caught. This will be further taken care in the following section\n",
        "\n",
        "\n",
        "# **Model Tuning for balancing the sample by Random Under Sampling**\n",
        "\n",
        "In this phase of the project we will implement \"Random Under Sampling\" which basically consists of removing data in order to have a more balanced dataset and thus avoiding our models to overfitting.\n",
        "\n",
        "Steps:\n",
        "\n",
        "  The first thing we have to do is determine how imbalanced is our class (use \"value_counts()\" on the class column to determine the amount for each label)\n",
        "\n",
        "  Once we determine how many instances are considered fraud transactions (Fraud = \"1\") , we should bring the non-fraud transactions to the same amount as fraud transactions (assuming we want a 50/50 ratio), this will be equivalent to 492 cases of fraud and 492 cases of non-fraud transactions.\n",
        "\n",
        "  After implementing this technique, we have a sub-sample of our dataframe with a 50/50 ratio with regards to our classes. Then the next step we will implement is to shuffle the data to see if our models can maintain a certain accuracy everytime we run this script.\n",
        "\n",
        "Note: The main issue with \"Random Under-Sampling\" is that we run the risk that our classification models will not perform as accurate as we would like to since there is a great deal of information loss (bringing 492 non-fraud transaction from 284,315 non-fraud transaction)\n",
        "\n",
        "\n"
      ]
    },
    {
      "cell_type": "code",
      "execution_count": 23,
      "metadata": {
        "colab": {
          "base_uri": "https://localhost:8080/"
        },
        "id": "QozYWrturJY6",
        "outputId": "16bf9c7c-2033-4512-be72-e464423beb44"
      },
      "outputs": [
        {
          "output_type": "execute_result",
          "data": {
            "text/plain": [
              "44828     0\n",
              "221877    0\n",
              "278826    0\n",
              "149792    0\n",
              "226041    0\n",
              "Name: Class, dtype: int64"
            ]
          },
          "metadata": {},
          "execution_count": 23
        }
      ],
      "source": [
        "Y_train.head()\n"
      ]
    },
    {
      "cell_type": "code",
      "execution_count": 24,
      "metadata": {
        "colab": {
          "base_uri": "https://localhost:8080/",
          "height": 262
        },
        "id": "jJi3I9UKrZGh",
        "outputId": "ea144cf1-ae62-45e0-f02d-5cdbd567eadf"
      },
      "outputs": [
        {
          "output_type": "execute_result",
          "data": {
            "text/html": [
              "\n",
              "  <div id=\"df-727a3b2b-0898-4e7c-a794-27b42a867ebd\">\n",
              "    <div class=\"colab-df-container\">\n",
              "      <div>\n",
              "<style scoped>\n",
              "    .dataframe tbody tr th:only-of-type {\n",
              "        vertical-align: middle;\n",
              "    }\n",
              "\n",
              "    .dataframe tbody tr th {\n",
              "        vertical-align: top;\n",
              "    }\n",
              "\n",
              "    .dataframe thead th {\n",
              "        text-align: right;\n",
              "    }\n",
              "</style>\n",
              "<table border=\"1\" class=\"dataframe\">\n",
              "  <thead>\n",
              "    <tr style=\"text-align: right;\">\n",
              "      <th></th>\n",
              "      <th>Time</th>\n",
              "      <th>V1</th>\n",
              "      <th>V2</th>\n",
              "      <th>V3</th>\n",
              "      <th>V4</th>\n",
              "      <th>V5</th>\n",
              "      <th>V6</th>\n",
              "      <th>V7</th>\n",
              "      <th>V8</th>\n",
              "      <th>V9</th>\n",
              "      <th>V10</th>\n",
              "      <th>V11</th>\n",
              "      <th>V12</th>\n",
              "      <th>V13</th>\n",
              "      <th>V14</th>\n",
              "      <th>V15</th>\n",
              "      <th>V16</th>\n",
              "      <th>V17</th>\n",
              "      <th>V18</th>\n",
              "      <th>V19</th>\n",
              "      <th>V20</th>\n",
              "      <th>V21</th>\n",
              "      <th>V22</th>\n",
              "      <th>V23</th>\n",
              "      <th>V24</th>\n",
              "      <th>V25</th>\n",
              "      <th>V26</th>\n",
              "      <th>V27</th>\n",
              "      <th>V28</th>\n",
              "      <th>Amount</th>\n",
              "      <th>Class</th>\n",
              "    </tr>\n",
              "  </thead>\n",
              "  <tbody>\n",
              "    <tr>\n",
              "      <th>0</th>\n",
              "      <td>0.0</td>\n",
              "      <td>-1.360</td>\n",
              "      <td>-0.073</td>\n",
              "      <td>2.536</td>\n",
              "      <td>1.378</td>\n",
              "      <td>-0.338</td>\n",
              "      <td>0.462</td>\n",
              "      <td>0.240</td>\n",
              "      <td>0.099</td>\n",
              "      <td>0.364</td>\n",
              "      <td>0.091</td>\n",
              "      <td>-0.552</td>\n",
              "      <td>-0.618</td>\n",
              "      <td>-0.991</td>\n",
              "      <td>-0.311</td>\n",
              "      <td>1.468</td>\n",
              "      <td>-0.470</td>\n",
              "      <td>0.208</td>\n",
              "      <td>0.026</td>\n",
              "      <td>0.404</td>\n",
              "      <td>0.251</td>\n",
              "      <td>-0.018</td>\n",
              "      <td>0.278</td>\n",
              "      <td>-0.110</td>\n",
              "      <td>0.067</td>\n",
              "      <td>0.129</td>\n",
              "      <td>-0.189</td>\n",
              "      <td>0.134</td>\n",
              "      <td>-0.021</td>\n",
              "      <td>149.62</td>\n",
              "      <td>0</td>\n",
              "    </tr>\n",
              "    <tr>\n",
              "      <th>1</th>\n",
              "      <td>0.0</td>\n",
              "      <td>1.192</td>\n",
              "      <td>0.266</td>\n",
              "      <td>0.166</td>\n",
              "      <td>0.448</td>\n",
              "      <td>0.060</td>\n",
              "      <td>-0.082</td>\n",
              "      <td>-0.079</td>\n",
              "      <td>0.085</td>\n",
              "      <td>-0.255</td>\n",
              "      <td>-0.167</td>\n",
              "      <td>1.613</td>\n",
              "      <td>1.065</td>\n",
              "      <td>0.489</td>\n",
              "      <td>-0.144</td>\n",
              "      <td>0.636</td>\n",
              "      <td>0.464</td>\n",
              "      <td>-0.115</td>\n",
              "      <td>-0.183</td>\n",
              "      <td>-0.146</td>\n",
              "      <td>-0.069</td>\n",
              "      <td>-0.226</td>\n",
              "      <td>-0.639</td>\n",
              "      <td>0.101</td>\n",
              "      <td>-0.340</td>\n",
              "      <td>0.167</td>\n",
              "      <td>0.126</td>\n",
              "      <td>-0.009</td>\n",
              "      <td>0.015</td>\n",
              "      <td>2.69</td>\n",
              "      <td>0</td>\n",
              "    </tr>\n",
              "    <tr>\n",
              "      <th>2</th>\n",
              "      <td>1.0</td>\n",
              "      <td>-1.358</td>\n",
              "      <td>-1.340</td>\n",
              "      <td>1.773</td>\n",
              "      <td>0.380</td>\n",
              "      <td>-0.503</td>\n",
              "      <td>1.800</td>\n",
              "      <td>0.791</td>\n",
              "      <td>0.248</td>\n",
              "      <td>-1.515</td>\n",
              "      <td>0.208</td>\n",
              "      <td>0.625</td>\n",
              "      <td>0.066</td>\n",
              "      <td>0.717</td>\n",
              "      <td>-0.166</td>\n",
              "      <td>2.346</td>\n",
              "      <td>-2.890</td>\n",
              "      <td>1.110</td>\n",
              "      <td>-0.121</td>\n",
              "      <td>-2.262</td>\n",
              "      <td>0.525</td>\n",
              "      <td>0.248</td>\n",
              "      <td>0.772</td>\n",
              "      <td>0.909</td>\n",
              "      <td>-0.689</td>\n",
              "      <td>-0.328</td>\n",
              "      <td>-0.139</td>\n",
              "      <td>-0.055</td>\n",
              "      <td>-0.060</td>\n",
              "      <td>378.66</td>\n",
              "      <td>0</td>\n",
              "    </tr>\n",
              "    <tr>\n",
              "      <th>3</th>\n",
              "      <td>1.0</td>\n",
              "      <td>-0.966</td>\n",
              "      <td>-0.185</td>\n",
              "      <td>1.793</td>\n",
              "      <td>-0.863</td>\n",
              "      <td>-0.010</td>\n",
              "      <td>1.247</td>\n",
              "      <td>0.238</td>\n",
              "      <td>0.377</td>\n",
              "      <td>-1.387</td>\n",
              "      <td>-0.055</td>\n",
              "      <td>-0.226</td>\n",
              "      <td>0.178</td>\n",
              "      <td>0.508</td>\n",
              "      <td>-0.288</td>\n",
              "      <td>-0.631</td>\n",
              "      <td>-1.060</td>\n",
              "      <td>-0.684</td>\n",
              "      <td>1.966</td>\n",
              "      <td>-1.233</td>\n",
              "      <td>-0.208</td>\n",
              "      <td>-0.108</td>\n",
              "      <td>0.005</td>\n",
              "      <td>-0.190</td>\n",
              "      <td>-1.176</td>\n",
              "      <td>0.647</td>\n",
              "      <td>-0.222</td>\n",
              "      <td>0.063</td>\n",
              "      <td>0.061</td>\n",
              "      <td>123.50</td>\n",
              "      <td>0</td>\n",
              "    </tr>\n",
              "    <tr>\n",
              "      <th>4</th>\n",
              "      <td>2.0</td>\n",
              "      <td>-1.158</td>\n",
              "      <td>0.878</td>\n",
              "      <td>1.549</td>\n",
              "      <td>0.403</td>\n",
              "      <td>-0.407</td>\n",
              "      <td>0.096</td>\n",
              "      <td>0.593</td>\n",
              "      <td>-0.271</td>\n",
              "      <td>0.818</td>\n",
              "      <td>0.753</td>\n",
              "      <td>-0.823</td>\n",
              "      <td>0.538</td>\n",
              "      <td>1.346</td>\n",
              "      <td>-1.120</td>\n",
              "      <td>0.175</td>\n",
              "      <td>-0.451</td>\n",
              "      <td>-0.237</td>\n",
              "      <td>-0.038</td>\n",
              "      <td>0.803</td>\n",
              "      <td>0.409</td>\n",
              "      <td>-0.009</td>\n",
              "      <td>0.798</td>\n",
              "      <td>-0.137</td>\n",
              "      <td>0.141</td>\n",
              "      <td>-0.206</td>\n",
              "      <td>0.502</td>\n",
              "      <td>0.219</td>\n",
              "      <td>0.215</td>\n",
              "      <td>69.99</td>\n",
              "      <td>0</td>\n",
              "    </tr>\n",
              "  </tbody>\n",
              "</table>\n",
              "</div>\n",
              "      <button class=\"colab-df-convert\" onclick=\"convertToInteractive('df-727a3b2b-0898-4e7c-a794-27b42a867ebd')\"\n",
              "              title=\"Convert this dataframe to an interactive table.\"\n",
              "              style=\"display:none;\">\n",
              "        \n",
              "  <svg xmlns=\"http://www.w3.org/2000/svg\" height=\"24px\"viewBox=\"0 0 24 24\"\n",
              "       width=\"24px\">\n",
              "    <path d=\"M0 0h24v24H0V0z\" fill=\"none\"/>\n",
              "    <path d=\"M18.56 5.44l.94 2.06.94-2.06 2.06-.94-2.06-.94-.94-2.06-.94 2.06-2.06.94zm-11 1L8.5 8.5l.94-2.06 2.06-.94-2.06-.94L8.5 2.5l-.94 2.06-2.06.94zm10 10l.94 2.06.94-2.06 2.06-.94-2.06-.94-.94-2.06-.94 2.06-2.06.94z\"/><path d=\"M17.41 7.96l-1.37-1.37c-.4-.4-.92-.59-1.43-.59-.52 0-1.04.2-1.43.59L10.3 9.45l-7.72 7.72c-.78.78-.78 2.05 0 2.83L4 21.41c.39.39.9.59 1.41.59.51 0 1.02-.2 1.41-.59l7.78-7.78 2.81-2.81c.8-.78.8-2.07 0-2.86zM5.41 20L4 18.59l7.72-7.72 1.47 1.35L5.41 20z\"/>\n",
              "  </svg>\n",
              "      </button>\n",
              "      \n",
              "  <style>\n",
              "    .colab-df-container {\n",
              "      display:flex;\n",
              "      flex-wrap:wrap;\n",
              "      gap: 12px;\n",
              "    }\n",
              "\n",
              "    .colab-df-convert {\n",
              "      background-color: #E8F0FE;\n",
              "      border: none;\n",
              "      border-radius: 50%;\n",
              "      cursor: pointer;\n",
              "      display: none;\n",
              "      fill: #1967D2;\n",
              "      height: 32px;\n",
              "      padding: 0 0 0 0;\n",
              "      width: 32px;\n",
              "    }\n",
              "\n",
              "    .colab-df-convert:hover {\n",
              "      background-color: #E2EBFA;\n",
              "      box-shadow: 0px 1px 2px rgba(60, 64, 67, 0.3), 0px 1px 3px 1px rgba(60, 64, 67, 0.15);\n",
              "      fill: #174EA6;\n",
              "    }\n",
              "\n",
              "    [theme=dark] .colab-df-convert {\n",
              "      background-color: #3B4455;\n",
              "      fill: #D2E3FC;\n",
              "    }\n",
              "\n",
              "    [theme=dark] .colab-df-convert:hover {\n",
              "      background-color: #434B5C;\n",
              "      box-shadow: 0px 1px 3px 1px rgba(0, 0, 0, 0.15);\n",
              "      filter: drop-shadow(0px 1px 2px rgba(0, 0, 0, 0.3));\n",
              "      fill: #FFFFFF;\n",
              "    }\n",
              "  </style>\n",
              "\n",
              "      <script>\n",
              "        const buttonEl =\n",
              "          document.querySelector('#df-727a3b2b-0898-4e7c-a794-27b42a867ebd button.colab-df-convert');\n",
              "        buttonEl.style.display =\n",
              "          google.colab.kernel.accessAllowed ? 'block' : 'none';\n",
              "\n",
              "        async function convertToInteractive(key) {\n",
              "          const element = document.querySelector('#df-727a3b2b-0898-4e7c-a794-27b42a867ebd');\n",
              "          const dataTable =\n",
              "            await google.colab.kernel.invokeFunction('convertToInteractive',\n",
              "                                                     [key], {});\n",
              "          if (!dataTable) return;\n",
              "\n",
              "          const docLinkHtml = 'Like what you see? Visit the ' +\n",
              "            '<a target=\"_blank\" href=https://colab.research.google.com/notebooks/data_table.ipynb>data table notebook</a>'\n",
              "            + ' to learn more about interactive tables.';\n",
              "          element.innerHTML = '';\n",
              "          dataTable['output_type'] = 'display_data';\n",
              "          await google.colab.output.renderOutput(dataTable, element);\n",
              "          const docLink = document.createElement('div');\n",
              "          docLink.innerHTML = docLinkHtml;\n",
              "          element.appendChild(docLink);\n",
              "        }\n",
              "      </script>\n",
              "    </div>\n",
              "  </div>\n",
              "  "
            ],
            "text/plain": [
              "   Time     V1     V2     V3     V4  ...    V26    V27    V28  Amount  Class\n",
              "0   0.0 -1.360 -0.073  2.536  1.378  ... -0.189  0.134 -0.021  149.62      0\n",
              "1   0.0  1.192  0.266  0.166  0.448  ...  0.126 -0.009  0.015    2.69      0\n",
              "2   1.0 -1.358 -1.340  1.773  0.380  ... -0.139 -0.055 -0.060  378.66      0\n",
              "3   1.0 -0.966 -0.185  1.793 -0.863  ... -0.222  0.063  0.061  123.50      0\n",
              "4   2.0 -1.158  0.878  1.549  0.403  ...  0.502  0.219  0.215   69.99      0\n",
              "\n",
              "[5 rows x 31 columns]"
            ]
          },
          "metadata": {},
          "execution_count": 24
        }
      ],
      "source": [
        "df = pd.concat([X_train, Y_train], axis=1)\n",
        "# amount of fraud classes 492 rows.\n",
        "fraud_df = df.loc[df['Class'] == 1]\n",
        "non_fraud_df = df.loc[df['Class'] == 0][:492]\n",
        "\n",
        "normal_distributed_df = pd.concat([fraud_df, non_fraud_df])\n",
        "\n",
        "# Shuffle dataframe rows\n",
        "df_new = normal_distributed_df.sample(frac=1, random_state=42)\n",
        "# split out validation dataset for the end\n",
        "Y_train_new= df_new[\"Class\"]\n",
        "X_train_new = df_new.loc[:, dataset.columns != 'Class']\n",
        "\n",
        "dataset.head()\n"
      ]
    },
    {
      "cell_type": "code",
      "execution_count": 25,
      "metadata": {
        "colab": {
          "base_uri": "https://localhost:8080/",
          "height": 366
        },
        "id": "fZpH1aRMre2m",
        "outputId": "0bf536e2-ad9d-414b-9993-80d1fe9a82b7"
      },
      "outputs": [
        {
          "output_type": "stream",
          "name": "stdout",
          "text": [
            "Distribution of the Classes in the subsample dataset\n",
            "0    0.557\n",
            "1    0.443\n",
            "Name: Class, dtype: float64\n"
          ]
        },
        {
          "output_type": "display_data",
          "data": {
            "image/png": "[encoded data removed]",
            "text/plain": [
              "<Figure size 432x288 with 1 Axes>"
            ]
          },
          "metadata": {
            "needs_background": "light"
          }
        }
      ],
      "source": [
        "print('Distribution of the Classes in the subsample dataset')\n",
        "print(df_new['Class'].value_counts()/len(df_new))\n",
        "sns.countplot('Class', data=df_new)\n",
        "pyplot.title('Equally Distributed Classes', fontsize=14)\n",
        "pyplot.show()"
      ]
    },
    {
      "cell_type": "markdown",
      "metadata": {
        "id": "J5Mk6yFFrjOh"
      },
      "source": [
        "\n",
        "\n",
        "**Now that we have our dataframe correctly balanced, we can go further with our analysis and data preprocessing. Given the total number of data points are around 900, we try all the Models including Deep Learning Models. However, given the data is balanced, the metric used here is accuracy, as it focuses on both false positive and false negative.**\n"
      ]
    },
    {
      "cell_type": "code",
      "execution_count": 26,
      "metadata": {
        "colab": {
          "base_uri": "https://localhost:8080/"
        },
        "id": "cGH3zDDyrnC-",
        "outputId": "e4492a66-1aa8-4c02-9a87-3054292b9d94"
      },
      "outputs": [
        {
          "output_type": "stream",
          "name": "stdout",
          "text": [
            "LR: 0.929724 (0.032573)\n",
            "LDA: 0.910508 (0.034821)\n",
            "KNN: 0.651609 (0.039796)\n",
            "CART: 0.923008 (0.025400)\n",
            "NB: 0.876634 (0.046132)\n",
            "SVM: 0.595161 (0.045772)\n",
            "NN: 0.645812 (0.064554)\n",
            "AB: 0.941062 (0.029656)\n",
            "GBM: 0.943361 (0.025981)\n",
            "RF: 0.934282 (0.029674)\n",
            "ET: 0.936568 (0.020623)\n",
            "WARNING:tensorflow:5 out of the last 13 calls to <function Model.make_predict_function.<locals>.predict_function at 0x7f1551945680> triggered tf.function retracing. Tracing is expensive and the excessive number of tracings could be due to (1) creating @tf.function repeatedly in a loop, (2) passing tensors with different shapes, (3) passing Python objects instead of tensors. For (1), please define your @tf.function outside of the loop. For (2), @tf.function has experimental_relax_shapes=True option that relaxes argument shapes that can avoid unnecessary retracing. For (3), please refer to https://www.tensorflow.org/guide/function#controlling_retracing and https://www.tensorflow.org/api_docs/python/tf/function for  more details.\n",
            "WARNING:tensorflow:5 out of the last 13 calls to <function Model.make_predict_function.<locals>.predict_function at 0x7f15521d10e0> triggered tf.function retracing. Tracing is expensive and the excessive number of tracings could be due to (1) creating @tf.function repeatedly in a loop, (2) passing tensors with different shapes, (3) passing Python objects instead of tensors. For (1), please define your @tf.function outside of the loop. For (2), @tf.function has experimental_relax_shapes=True option that relaxes argument shapes that can avoid unnecessary retracing. For (3), please refer to https://www.tensorflow.org/guide/function#controlling_retracing and https://www.tensorflow.org/api_docs/python/tf/function for  more details.\n",
            "DNN: 0.755439 (0.169759)\n"
          ]
        }
      ],
      "source": [
        "\n",
        "scoring='accuracy'\n",
        "\n",
        "# spot check the algorithms\n",
        "models = []\n",
        "models.append(('LR', LogisticRegression()))\n",
        "models.append(('LDA', LinearDiscriminantAnalysis()))\n",
        "models.append(('KNN', KNeighborsClassifier()))\n",
        "models.append(('CART', DecisionTreeClassifier()))\n",
        "models.append(('NB', GaussianNB()))\n",
        "models.append(('SVM', SVC()))\n",
        "#Neural Network\n",
        "models.append(('NN', MLPClassifier()))\n",
        "# #Ensable Models \n",
        "# Boosting methods\n",
        "models.append(('AB', AdaBoostClassifier()))\n",
        "models.append(('GBM', GradientBoostingClassifier()))\n",
        "# Bagging methods\n",
        "models.append(('RF', RandomForestClassifier()))\n",
        "models.append(('ET', ExtraTreesClassifier()))\n",
        "\n",
        "#Writing the Deep Learning Classifier in case the Deep Learning Flag is Set to True\n",
        "#Set the following Flag to 1 if the Deep LEarning Models Flag has to be enabled\n",
        "EnableDLModelsFlag = 1\n",
        "if EnableDLModelsFlag == 1 :   \n",
        "    # Function to create model, required for KerasClassifier\n",
        "    def create_model(neurons=12, activation='relu', learn_rate = 0.01, momentum=0):\n",
        "        # create model\n",
        "        model = Sequential()\n",
        "        model.add(Dense(X_train.shape[1], input_dim=X_train.shape[1], activation=activation))\n",
        "        model.add(Dense(32, activation=activation))\n",
        "        model.add(Dense(1, activation='sigmoid'))\n",
        "        # Compile model\n",
        "        optimizer = SGD(lr=learn_rate, momentum=momentum)\n",
        "        model.compile(loss='binary_crossentropy', optimizer='adam', metrics=['accuracy'])\n",
        "        return model    \n",
        "    models.append(('DNN', KerasClassifier(build_fn=create_model, epochs=50, batch_size=10, verbose=0)))\n",
        "\n",
        "results = []\n",
        "names = []\n",
        "for name, model in models:\n",
        "    kfold = KFold(n_splits=num_folds)\n",
        "    cv_results = cross_val_score(model, X_train_new, Y_train_new, cv=kfold, scoring=scoring)\n",
        "    results.append(cv_results)\n",
        "    names.append(name)\n",
        "    msg = \"%s: %f (%f)\" % (name, cv_results.mean(), cv_results.std())\n",
        "    print(msg)\n",
        "\n"
      ]
    },
    {
      "cell_type": "code",
      "execution_count": 27,
      "metadata": {
        "colab": {
          "base_uri": "https://localhost:8080/",
          "height": 294
        },
        "id": "ghdhgkoVrt_X",
        "outputId": "cc7d3e80-548b-424d-e012-2433a3819a72"
      },
      "outputs": [
        {
          "output_type": "display_data",
          "data": {
            "image/png": "[encoded data removed]",
            "text/plain": [
              "<Figure size 576x288 with 1 Axes>"
            ]
          },
          "metadata": {
            "needs_background": "light"
          }
        }
      ],
      "source": [
        "# compare algorithms\n",
        "fig = pyplot.figure()\n",
        "fig.suptitle('Algorithm Comparison')\n",
        "ax = fig.add_subplot(111)\n",
        "pyplot.boxplot(results)\n",
        "ax.set_xticklabels(names)\n",
        "fig.set_size_inches(8,4)\n",
        "pyplot.show()"
      ]
    },
    {
      "cell_type": "code",
      "execution_count": 28,
      "metadata": {
        "colab": {
          "base_uri": "https://localhost:8080/"
        },
        "id": "rGm0Acq_ryII",
        "outputId": "2835a143-8323-4a6c-aa20-6c4c2635ed5d"
      },
      "outputs": [
        {
          "output_type": "stream",
          "name": "stdout",
          "text": [
            "Best: 0.945633 using {'max_depth': 5, 'n_estimators': 1000}\n",
            "#9 0.929750 (0.032194) with: {'max_depth': 2, 'n_estimators': 20}\n",
            "#2 0.941126 (0.022637) with: {'max_depth': 2, 'n_estimators': 180}\n",
            "#5 0.938866 (0.025543) with: {'max_depth': 2, 'n_estimators': 1000}\n",
            "#8 0.935406 (0.032278) with: {'max_depth': 3, 'n_estimators': 20}\n",
            "#3 0.941113 (0.022687) with: {'max_depth': 3, 'n_estimators': 180}\n",
            "#4 0.941101 (0.023833) with: {'max_depth': 3, 'n_estimators': 1000}\n",
            "#7 0.935444 (0.028802) with: {'max_depth': 5, 'n_estimators': 20}\n",
            "#6 0.936581 (0.025594) with: {'max_depth': 5, 'n_estimators': 180}\n",
            "#1 0.945633 (0.024871) with: {'max_depth': 5, 'n_estimators': 1000}\n"
          ]
        }
      ],
      "source": [
        "# Given that GBM is the best model out of all the models, a grid search is performed for GBM model by varing number of estimators and maximum depth.\n",
        "\n",
        "# Grid Search: GradientBoosting Tuning\n",
        "'''\n",
        "n_estimators : int (default=100)\n",
        "    The number of boosting stages to perform. \n",
        "    Gradient boosting is fairly robust to over-fitting so a large number usually results in better performance.\n",
        "max_depth : integer, optional (default=3)\n",
        "    maximum depth of the individual regression estimators. \n",
        "    The maximum depth limits the number of nodes in the tree. \n",
        "    Tune this parameter for best performance; the best value depends on the interaction of the input variables.\n",
        "\n",
        "''' \n",
        "n_estimators = [20,180,1000]\n",
        "max_depth= [2, 3,5]\n",
        "param_grid = dict(n_estimators=n_estimators, max_depth=max_depth)\n",
        "model = GradientBoostingClassifier()\n",
        "kfold = KFold(n_splits=num_folds)\n",
        "grid = GridSearchCV(estimator=model, param_grid=param_grid, scoring=scoring, cv=kfold)\n",
        "grid_result = grid.fit(X_train_new, Y_train_new)\n",
        "\n",
        "#Print Results\n",
        "print(\"Best: %f using %s\" % (grid_result.best_score_, grid_result.best_params_))\n",
        "means = grid_result.cv_results_['mean_test_score']\n",
        "stds = grid_result.cv_results_['std_test_score']\n",
        "params = grid_result.cv_results_['params']\n",
        "ranks = grid_result.cv_results_['rank_test_score']\n",
        "for mean, stdev, param, rank in zip(means, stds, params, ranks):\n",
        "    print(\"#%d %f (%f) with: %r\" % (rank, mean, stdev, param))\n",
        "\n"
      ]
    },
    {
      "cell_type": "code",
      "execution_count": 29,
      "metadata": {
        "colab": {
          "base_uri": "https://localhost:8080/"
        },
        "id": "Dbi9sOzfr3o_",
        "outputId": "57644a4a-9c96-47b5-9baa-e8d32f9560be"
      },
      "outputs": [
        {
          "output_type": "execute_result",
          "data": {
            "text/plain": [
              "GradientBoostingClassifier(max_depth=5, n_estimators=1000)"
            ]
          },
          "metadata": {},
          "execution_count": 29
        }
      ],
      "source": [
        "# prepare model\n",
        "model = GradientBoostingClassifier(max_depth= 5, n_estimators = 1000)\n",
        "model.fit(X_train_new, Y_train_new)"
      ]
    },
    {
      "cell_type": "code",
      "execution_count": 30,
      "metadata": {
        "colab": {
          "base_uri": "https://localhost:8080/"
        },
        "id": "b9LrjbhIr7j4",
        "outputId": "1f12ce6e-dcfa-46fd-d418-3c240fbb4e2c"
      },
      "outputs": [
        {
          "output_type": "stream",
          "name": "stdout",
          "text": [
            "0.9766686562971806\n",
            "[[55541  1321]\n",
            " [    8    92]]\n",
            "              precision    recall  f1-score   support\n",
            "\n",
            "           0       1.00      0.98      0.99     56862\n",
            "           1       0.07      0.92      0.12       100\n",
            "\n",
            "    accuracy                           0.98     56962\n",
            "   macro avg       0.53      0.95      0.55     56962\n",
            "weighted avg       1.00      0.98      0.99     56962\n",
            "\n"
          ]
        }
      ],
      "source": [
        "# estimate accuracy on Original validation set\n",
        "predictions = model.predict(X_validation)\n",
        "print(accuracy_score(Y_validation, predictions))\n",
        "print(confusion_matrix(Y_validation, predictions))\n",
        "print(classification_report(Y_validation, predictions))"
      ]
    },
    {
      "cell_type": "code",
      "execution_count": 31,
      "metadata": {
        "colab": {
          "base_uri": "https://localhost:8080/",
          "height": 296
        },
        "id": "WH0h-gjyr_IA",
        "outputId": "f84a9dc7-6776-4492-ef95-256ca3fc84ef"
      },
      "outputs": [
        {
          "output_type": "execute_result",
          "data": {
            "text/plain": [
              "<matplotlib.axes._subplots.AxesSubplot at 0x7f1551b12710>"
            ]
          },
          "metadata": {},
          "execution_count": 31
        },
        {
          "output_type": "display_data",
          "data": {
            "image/png": "[encoded data removed]",
            "text/plain": [
              "<Figure size 432x288 with 2 Axes>"
            ]
          },
          "metadata": {
            "needs_background": "light"
          }
        }
      ],
      "source": [
        "df_cm = pd.DataFrame(confusion_matrix(Y_validation, predictions), columns=np.unique(Y_validation), index = np.unique(Y_validation))\n",
        "df_cm.index.name = 'Actual'\n",
        "df_cm.columns.name = 'Predicted'\n",
        "sns.heatmap(df_cm, cmap=\"Blues\", annot=True,annot_kws={\"size\": 16})# font size"
      ]
    },
    {
      "cell_type": "markdown",
      "metadata": {
        "id": "Jl4eJEW4sBqu"
      },
      "source": [
        "\n",
        "\n",
        "The results on the test set are really good and the model performs much better with no case of fraud not caught.\n",
        "\n",
        "**Conclusion:**\n",
        "\n",
        "Choosing the right metric lead to an enhancement in the fraud cases detected correctly. Under-sampling lead to a significant improvement as all the fraud cases in the test set are correctly identified post under-sampling.\n",
        "\n",
        "Under-sampling came with a tradeoff though. In the under-sampled data our model is unable to detect for a large number of cases non-fraud transactions correctly and instead, misclassifies those non-fraud transactions as fraud cases.\n"
      ]
    },
    {
      "cell_type": "code",
      "execution_count": 31,
      "metadata": {
        "id": "Vti5gn2xsGIJ"
      },
      "outputs": [],
      "source": [
        ""
      ]
    }
  ],
  "metadata": {
    "accelerator": "GPU",
    "colab": {
      "name": "Credit Card Fraud Detection.ipynb",
      "provenance": [],
      "authorship_tag": "ABX9TyN+7dQ/tP+qnV/chGeOQw5q",
      "include_colab_link": true
    },
    "kernelspec": {
      "display_name": "Python 3",
      "name": "python3"
    },
    "language_info": {
      "name": "python"
    }
  },
  "nbformat": 4,
  "nbformat_minor": 0
}